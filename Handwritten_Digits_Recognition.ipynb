{
  "metadata": {
    "kernelspec": {
      "language": "python",
      "display_name": "Python 3",
      "name": "python3"
    },
    "language_info": {
      "pygments_lexer": "ipython3",
      "nbconvert_exporter": "python",
      "version": "3.6.4",
      "file_extension": ".py",
      "codemirror_mode": {
        "name": "ipython",
        "version": 3
      },
      "name": "python",
      "mimetype": "text/x-python"
    },
    "colab": {
      "name": "Handwritten Digits Recognition",
      "provenance": []
    }
  },
  "nbformat_minor": 0,
  "nbformat": 4,
  "cells": [
    {
      "source": [
        "\n",
        "# IMPORTANT: RUN THIS CELL IN ORDER TO IMPORT YOUR KAGGLE DATA SOURCES\n",
        "# TO THE CORRECT LOCATION (/kaggle/input) IN YOUR NOTEBOOK,\n",
        "# THEN FEEL FREE TO DELETE THIS CELL.\n",
        "# NOTE: THIS NOTEBOOK ENVIRONMENT DIFFERS FROM KAGGLE'S PYTHON\n",
        "# ENVIRONMENT SO THERE MAY BE MISSING LIBRARIES USED BY YOUR\n",
        "# NOTEBOOK.\n",
        "\n",
        "import os\n",
        "import sys\n",
        "from tempfile import NamedTemporaryFile\n",
        "from urllib.request import urlopen\n",
        "from urllib.parse import unquote, urlparse\n",
        "from urllib.error import HTTPError\n",
        "from zipfile import ZipFile\n",
        "import tarfile\n",
        "import shutil\n",
        "\n",
        "CHUNK_SIZE = 40960\n",
        "DATA_SOURCE_MAPPING = 'mnist-dataset:https%3A%2F%2Fstorage.googleapis.com%2Fkaggle-data-sets%2F102285%2F242592%2Fbundle%2Farchive.zip%3FX-Goog-Algorithm%3DGOOG4-RSA-SHA256%26X-Goog-Credential%3Dgcp-kaggle-com%2540kaggle-161607.iam.gserviceaccount.com%252F20240424%252Fauto%252Fstorage%252Fgoog4_request%26X-Goog-Date%3D20240424T153749Z%26X-Goog-Expires%3D259200%26X-Goog-SignedHeaders%3Dhost%26X-Goog-Signature%3D7bdf3dc832c936090a3c1c972ecaf6636570cd7503cd2f6c49bba879cb337b015edba9ea58a8f94e521587e2f4b812db3e508c53696efa08928766a1e8b6a5664299c135a2f3b5e3ca690e460aa3934b87572b7327ad8befae08527a1907e3b175bc107e5a574e659c81611ecce66806504cbfd73325ec7e37472ba905f0f7c9dc5fc2e64e3a0a73f49d01a76140c6bc2b037189ab4849ef25368c00d155234b9b093a0351008fd7831ad2991726029a12e2ee9c44a89e8ebf00c85007befc44b6ebf1184f84324643332ccc836866f969599e5ea80f37a700eda55fd57036d5488c809bdf556d11851e1edee81beddaff41491e4f87a4af53ccb46f48f710af'\n",
        "\n",
        "KAGGLE_INPUT_PATH='/kaggle/input'\n",
        "KAGGLE_WORKING_PATH='/kaggle/working'\n",
        "KAGGLE_SYMLINK='kaggle'\n",
        "\n",
        "!umount /kaggle/input/ 2> /dev/null\n",
        "shutil.rmtree('/kaggle/input', ignore_errors=True)\n",
        "os.makedirs(KAGGLE_INPUT_PATH, 0o777, exist_ok=True)\n",
        "os.makedirs(KAGGLE_WORKING_PATH, 0o777, exist_ok=True)\n",
        "\n",
        "try:\n",
        "  os.symlink(KAGGLE_INPUT_PATH, os.path.join(\"..\", 'input'), target_is_directory=True)\n",
        "except FileExistsError:\n",
        "  pass\n",
        "try:\n",
        "  os.symlink(KAGGLE_WORKING_PATH, os.path.join(\"..\", 'working'), target_is_directory=True)\n",
        "except FileExistsError:\n",
        "  pass\n",
        "\n",
        "for data_source_mapping in DATA_SOURCE_MAPPING.split(','):\n",
        "    directory, download_url_encoded = data_source_mapping.split(':')\n",
        "    download_url = unquote(download_url_encoded)\n",
        "    filename = urlparse(download_url).path\n",
        "    destination_path = os.path.join(KAGGLE_INPUT_PATH, directory)\n",
        "    try:\n",
        "        with urlopen(download_url) as fileres, NamedTemporaryFile() as tfile:\n",
        "            total_length = fileres.headers['content-length']\n",
        "            print(f'Downloading {directory}, {total_length} bytes compressed')\n",
        "            dl = 0\n",
        "            data = fileres.read(CHUNK_SIZE)\n",
        "            while len(data) > 0:\n",
        "                dl += len(data)\n",
        "                tfile.write(data)\n",
        "                done = int(50 * dl / int(total_length))\n",
        "                sys.stdout.write(f\"\\r[{'=' * done}{' ' * (50-done)}] {dl} bytes downloaded\")\n",
        "                sys.stdout.flush()\n",
        "                data = fileres.read(CHUNK_SIZE)\n",
        "            if filename.endswith('.zip'):\n",
        "              with ZipFile(tfile) as zfile:\n",
        "                zfile.extractall(destination_path)\n",
        "            else:\n",
        "              with tarfile.open(tfile.name) as tarfile:\n",
        "                tarfile.extractall(destination_path)\n",
        "            print(f'\\nDownloaded and uncompressed: {directory}')\n",
        "    except HTTPError as e:\n",
        "        print(f'Failed to load (likely expired) {download_url} to path {destination_path}')\n",
        "        continue\n",
        "    except OSError as e:\n",
        "        print(f'Failed to load {download_url} to path {destination_path}')\n",
        "        continue\n",
        "\n",
        "print('Data source import complete.')\n"
      ],
      "metadata": {
        "id": "Fj02jAB9waeZ",
        "outputId": "e7d2810c-dea2-421c-d11f-d5256367ff50",
        "colab": {
          "base_uri": "https://localhost:8080/"
        }
      },
      "cell_type": "code",
      "outputs": [
        {
          "output_type": "stream",
          "name": "stdout",
          "text": [
            "Downloading mnist-dataset, 23112702 bytes compressed\n",
            "[==================================================] 23112702 bytes downloaded\n",
            "Downloaded and uncompressed: mnist-dataset\n",
            "Data source import complete.\n"
          ]
        }
      ],
      "execution_count": 1
    },
    {
      "cell_type": "markdown",
      "source": [
        "# Importing Libraries"
      ],
      "metadata": {
        "id": "0Ek6xXHuwaef"
      }
    },
    {
      "cell_type": "code",
      "source": [
        "import keras\n",
        "from keras.datasets import mnist\n",
        "from keras.models import Sequential\n",
        "from keras.layers import Dense, Dropout, Flatten\n",
        "from keras.layers import Conv2D, MaxPooling2D\n",
        "from keras import backend as K"
      ],
      "metadata": {
        "execution": {
          "iopub.status.busy": "2021-10-25T16:17:29.5857Z",
          "iopub.execute_input": "2021-10-25T16:17:29.586067Z",
          "iopub.status.idle": "2021-10-25T16:17:34.332278Z",
          "shell.execute_reply.started": "2021-10-25T16:17:29.585991Z",
          "shell.execute_reply": "2021-10-25T16:17:34.331353Z"
        },
        "trusted": true,
        "id": "3F_F_7gEwaei"
      },
      "execution_count": null,
      "outputs": []
    },
    {
      "cell_type": "markdown",
      "source": [
        "# Loading Dataset"
      ],
      "metadata": {
        "id": "-dVjVh-0waej"
      }
    },
    {
      "cell_type": "code",
      "source": [
        "# the data, split between train and test sets\n",
        "(x_train, y_train), (x_test, y_test) = mnist.load_data()\n",
        "\n",
        "print(x_train.shape, y_train.shape)"
      ],
      "metadata": {
        "execution": {
          "iopub.status.busy": "2021-10-25T16:17:34.333684Z",
          "iopub.execute_input": "2021-10-25T16:17:34.334021Z",
          "iopub.status.idle": "2021-10-25T16:17:34.752302Z",
          "shell.execute_reply.started": "2021-10-25T16:17:34.333984Z",
          "shell.execute_reply": "2021-10-25T16:17:34.751352Z"
        },
        "trusted": true,
        "id": "2GJekebGwaek"
      },
      "execution_count": null,
      "outputs": []
    },
    {
      "cell_type": "markdown",
      "source": [
        "# Data Preprocessing\n",
        "#### The dimension of the training data is (60000,28,28). The CNN model will require one more dimension so we reshape the matrix to shape (60000,28,28,1)."
      ],
      "metadata": {
        "id": "6vkwOvISwael"
      }
    },
    {
      "cell_type": "code",
      "source": [
        "x_train = x_train.reshape(x_train.shape[0], 28, 28, 1)\n",
        "x_test = x_test.reshape(x_test.shape[0], 28, 28, 1)\n",
        "input_shape = (28, 28, 1)\n",
        "\n",
        "# convert class vectors to binary class matrices\n",
        "y_train = keras.utils.to_categorical(y_train, num_classes=10)\n",
        "y_test = keras.utils.to_categorical(y_test, num_classes=10)\n",
        "\n",
        "x_train = x_train.astype('float32')\n",
        "x_test = x_test.astype('float32')\n",
        "x_train /= 255\n",
        "x_test /= 255\n",
        "print('x_train shape:', x_train.shape)\n",
        "print(x_train.shape[0], 'train samples')\n",
        "print(x_test.shape[0], 'test samples')"
      ],
      "metadata": {
        "execution": {
          "iopub.status.busy": "2021-10-25T16:17:34.754155Z",
          "iopub.execute_input": "2021-10-25T16:17:34.754657Z",
          "iopub.status.idle": "2021-10-25T16:17:34.84057Z",
          "shell.execute_reply.started": "2021-10-25T16:17:34.754606Z",
          "shell.execute_reply": "2021-10-25T16:17:34.839687Z"
        },
        "trusted": true,
        "id": "OyshJh4fwaem"
      },
      "execution_count": null,
      "outputs": []
    },
    {
      "cell_type": "markdown",
      "source": [
        "# Model"
      ],
      "metadata": {
        "id": "1mgr-HXfwaen"
      }
    },
    {
      "cell_type": "code",
      "source": [
        "batch_size = 128\n",
        "num_classes = 10\n",
        "epochs = 50\n",
        "\n",
        "model = Sequential()\n",
        "model.add(Conv2D(32, kernel_size=(3, 3),activation='relu',input_shape=input_shape))\n",
        "model.add(Conv2D(64, (3, 3), activation='relu'))\n",
        "model.add(MaxPooling2D(pool_size=(2, 2)))\n",
        "model.add(Dropout(0.25))\n",
        "model.add(Flatten())\n",
        "model.add(Dense(256, activation='relu'))\n",
        "model.add(Dropout(0.5))\n",
        "model.add(Dense(num_classes, activation='softmax'))\n",
        "\n",
        "model.compile(loss=keras.losses.categorical_crossentropy,optimizer=keras.optimizers.Adadelta(),metrics=['accuracy'])"
      ],
      "metadata": {
        "execution": {
          "iopub.status.busy": "2021-10-25T16:17:34.842211Z",
          "iopub.execute_input": "2021-10-25T16:17:34.842743Z",
          "iopub.status.idle": "2021-10-25T16:17:36.957959Z",
          "shell.execute_reply.started": "2021-10-25T16:17:34.842702Z",
          "shell.execute_reply": "2021-10-25T16:17:36.957033Z"
        },
        "trusted": true,
        "id": "wFijfl-jwaen"
      },
      "execution_count": null,
      "outputs": []
    },
    {
      "cell_type": "markdown",
      "source": [
        "# Train the Model"
      ],
      "metadata": {
        "id": "FO-R6Vm8waep"
      }
    },
    {
      "cell_type": "code",
      "source": [
        "hist = model.fit(x_train, y_train,batch_size=batch_size,epochs=epochs,verbose=1,validation_data=(x_test, y_test))\n",
        "print(\"The model has successfully trained\")\n"
      ],
      "metadata": {
        "execution": {
          "iopub.status.busy": "2021-10-25T16:17:36.960121Z",
          "iopub.execute_input": "2021-10-25T16:17:36.960397Z",
          "iopub.status.idle": "2021-10-25T16:24:30.181387Z",
          "shell.execute_reply.started": "2021-10-25T16:17:36.960359Z",
          "shell.execute_reply": "2021-10-25T16:24:30.180132Z"
        },
        "trusted": true,
        "id": "p4CP6dc1waeq"
      },
      "execution_count": null,
      "outputs": []
    },
    {
      "cell_type": "markdown",
      "source": [
        "# Save the Model"
      ],
      "metadata": {
        "id": "SwsKPFQAwaes"
      }
    },
    {
      "cell_type": "code",
      "source": [
        "model.save('mnist.h5')\n",
        "print(\"Saving the model as mnist.h5\")"
      ],
      "metadata": {
        "execution": {
          "iopub.status.busy": "2021-10-25T16:24:30.182862Z",
          "iopub.execute_input": "2021-10-25T16:24:30.183229Z",
          "iopub.status.idle": "2021-10-25T16:24:30.258061Z",
          "shell.execute_reply.started": "2021-10-25T16:24:30.183191Z",
          "shell.execute_reply": "2021-10-25T16:24:30.257053Z"
        },
        "trusted": true,
        "id": "BK5FjPDhwaet"
      },
      "execution_count": null,
      "outputs": []
    },
    {
      "cell_type": "markdown",
      "source": [
        "# Model Evaluation"
      ],
      "metadata": {
        "id": "GehNAnCewaet"
      }
    },
    {
      "cell_type": "code",
      "source": [
        "score = model.evaluate(x_test, y_test, verbose=0)\n",
        "print('Test loss:', score[0])\n",
        "print('Test accuracy:', score[1])\n"
      ],
      "metadata": {
        "execution": {
          "iopub.status.busy": "2021-10-25T16:24:30.259432Z",
          "iopub.execute_input": "2021-10-25T16:24:30.259861Z",
          "iopub.status.idle": "2021-10-25T16:24:31.639293Z",
          "shell.execute_reply.started": "2021-10-25T16:24:30.259818Z",
          "shell.execute_reply": "2021-10-25T16:24:31.638353Z"
        },
        "trusted": true,
        "id": "TIUDuXinwaeu"
      },
      "execution_count": null,
      "outputs": []
    },
    {
      "cell_type": "code",
      "source": [
        "import matplotlib.pyplot as plt\n",
        "#plt.plot(hist.history['accuracy'], label='accuracy')\n",
        "plt.plot(hist.history['val_accuracy'], label = 'val_accuracy')\n",
        "plt.xlabel('Epoch')\n",
        "plt.ylabel('Accuracy')\n",
        "plt.ylim([0.5, 1])\n",
        "plt.legend(loc='lower right')\n",
        "\n",
        "test_loss, test_acc = model.evaluate(x_test,  y_test, verbose=2)"
      ],
      "metadata": {
        "execution": {
          "iopub.status.busy": "2021-10-25T16:38:20.015618Z",
          "iopub.execute_input": "2021-10-25T16:38:20.015964Z",
          "iopub.status.idle": "2021-10-25T16:38:21.493139Z",
          "shell.execute_reply.started": "2021-10-25T16:38:20.015934Z",
          "shell.execute_reply": "2021-10-25T16:38:21.49238Z"
        },
        "trusted": true,
        "id": "Q3ClvcMLwaev"
      },
      "execution_count": null,
      "outputs": []
    },
    {
      "cell_type": "code",
      "source": [
        "# to show any image from train dataset\n",
        "image_index = 111 # You may select anything up to 60,000\n",
        "print(y_train[image_index]) # The label\n",
        "plt.imshow(x_train[image_index], cmap='Greys')\n"
      ],
      "metadata": {
        "execution": {
          "iopub.status.busy": "2021-10-25T16:25:12.350553Z",
          "iopub.execute_input": "2021-10-25T16:25:12.350935Z",
          "iopub.status.idle": "2021-10-25T16:25:12.467278Z",
          "shell.execute_reply.started": "2021-10-25T16:25:12.350903Z",
          "shell.execute_reply": "2021-10-25T16:25:12.466402Z"
        },
        "trusted": true,
        "id": "iHitDaNfwaew"
      },
      "execution_count": null,
      "outputs": []
    },
    {
      "cell_type": "code",
      "source": [
        "# to show any image from test dataset\n",
        "image_index = 777 # You may select anything up to 10,000\n",
        "print(y_test[image_index]) # The label\n",
        "plt.imshow(x_test[image_index], cmap='Greys')"
      ],
      "metadata": {
        "execution": {
          "iopub.status.busy": "2021-10-25T16:32:23.216395Z",
          "iopub.execute_input": "2021-10-25T16:32:23.216731Z",
          "iopub.status.idle": "2021-10-25T16:32:23.333699Z",
          "shell.execute_reply.started": "2021-10-25T16:32:23.2167Z",
          "shell.execute_reply": "2021-10-25T16:32:23.332725Z"
        },
        "trusted": true,
        "id": "b65TFOZ7waex"
      },
      "execution_count": null,
      "outputs": []
    },
    {
      "cell_type": "code",
      "source": [
        "import sklearn\n",
        "from sklearn.metrics import accuracy_score\n",
        "y_predicted = model.predict(x_test)\n",
        "print (sklearn.metrics.classification_report(y_test.argmax(axis=1), y_predicted.argmax(axis=1),target_names=['0','1','2','3','4','5','6','7','8','9']))"
      ],
      "metadata": {
        "execution": {
          "iopub.status.busy": "2021-10-25T16:32:28.822175Z",
          "iopub.execute_input": "2021-10-25T16:32:28.822501Z",
          "iopub.status.idle": "2021-10-25T16:32:30.452511Z",
          "shell.execute_reply.started": "2021-10-25T16:32:28.822471Z",
          "shell.execute_reply": "2021-10-25T16:32:30.451491Z"
        },
        "trusted": true,
        "id": "fgkhaKQcwaey"
      },
      "execution_count": null,
      "outputs": []
    },
    {
      "cell_type": "code",
      "source": [
        "from sklearn.metrics import confusion_matrix, ConfusionMatrixDisplay\n",
        "cm = confusion_matrix(y_test.argmax(axis=1), y_predicted.argmax(axis=1))\n",
        "cmd = ConfusionMatrixDisplay(cm, display_labels=['0','1','2','3','4','5','6','7','8','9'])\n",
        "cmd.plot()"
      ],
      "metadata": {
        "execution": {
          "iopub.status.busy": "2021-10-25T16:32:35.751333Z",
          "iopub.execute_input": "2021-10-25T16:32:35.751677Z",
          "iopub.status.idle": "2021-10-25T16:32:36.225414Z",
          "shell.execute_reply.started": "2021-10-25T16:32:35.751624Z",
          "shell.execute_reply": "2021-10-25T16:32:36.224509Z"
        },
        "trusted": true,
        "id": "KQ5waUf1waez"
      },
      "execution_count": null,
      "outputs": []
    }
  ]
}